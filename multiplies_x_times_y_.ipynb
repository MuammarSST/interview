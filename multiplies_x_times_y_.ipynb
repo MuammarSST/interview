{
  "nbformat": 4,
  "nbformat_minor": 0,
  "metadata": {
    "colab": {
      "private_outputs": true,
      "provenance": [],
      "authorship_tag": "ABX9TyOQwIVAYzwtlZm+tptV2dwH",
      "include_colab_link": true
    },
    "kernelspec": {
      "name": "python3",
      "display_name": "Python 3"
    },
    "language_info": {
      "name": "python"
    }
  },
  "cells": [
    {
      "cell_type": "markdown",
      "metadata": {
        "id": "view-in-github",
        "colab_type": "text"
      },
      "source": [
        "<a href=\"https://colab.research.google.com/github/MuammarSST/interview/blob/main/multiplies_x_times_y_.ipynb\" target=\"_parent\"><img src=\"https://colab.research.google.com/assets/colab-badge.svg\" alt=\"Open In Colab\"/></a>"
      ]
    },
    {
      "cell_type": "code",
      "execution_count": null,
      "metadata": {
        "id": "hWcsxisQjMPh"
      },
      "outputs": [],
      "source": [
        "def multiply(x, y):\n",
        "  total = 0\n",
        "  while x > 0:\n",
        "    total += y\n",
        "    x -= 1\n",
        "  return total\n",
        "\n"
      ]
    },
    {
      "cell_type": "code",
      "source": [
        "multiply(4,3)"
      ],
      "metadata": {
        "id": "KCHvamJkjq8z"
      },
      "execution_count": null,
      "outputs": []
    }
  ]
}