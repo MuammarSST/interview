{
  "nbformat": 4,
  "nbformat_minor": 0,
  "metadata": {
    "colab": {
      "private_outputs": true,
      "provenance": [],
      "authorship_tag": "ABX9TyMnlW0qrxh2KkPEcdI9oopM",
      "include_colab_link": true
    },
    "kernelspec": {
      "name": "python3",
      "display_name": "Python 3"
    },
    "language_info": {
      "name": "python"
    }
  },
  "cells": [
    {
      "cell_type": "markdown",
      "metadata": {
        "id": "view-in-github",
        "colab_type": "text"
      },
      "source": [
        "<a href=\"https://colab.research.google.com/github/MuammarSST/interview/blob/main/interview.ipynb\" target=\"_parent\"><img src=\"https://colab.research.google.com/assets/colab-badge.svg\" alt=\"Open In Colab\"/></a>"
      ]
    },
    {
      "cell_type": "code",
      "execution_count": null,
      "metadata": {
        "id": "hWcsxisQjMPh"
      },
      "outputs": [],
      "source": [
        "def multiply(x, y):\n",
        "  total = 0\n",
        "  while x > 0:\n",
        "    total += y\n",
        "    x -= 1\n",
        "  return total"
      ]
    },
    {
      "cell_type": "code",
      "source": [
        "multiply(4,3)"
      ],
      "metadata": {
        "id": "_cu-qre-BlGo"
      },
      "execution_count": null,
      "outputs": []
    },
    {
      "cell_type": "code",
      "source": [
        "class Node:\n",
        "    def __init__(self, data):\n",
        "        self.data = data\n",
        "        self.right = None\n",
        "        self.left = None\n",
        "\n",
        "def max_depth(root):\n",
        "    if root is None:\n",
        "        return 0\n",
        "\n",
        "    left_depth = max_depth(root.left)\n",
        "    right_depth = max_depth(root.right)\n",
        "\n",
        "    return max(left_depth, right_depth) + 1\n",
        "\n",
        "# Contoh penggunaan\n",
        "# Membangun pohon biner\n",
        "root = Node(10)\n",
        "root.left = Node(5)\n",
        "root.right = Node(15)\n",
        "root.left.left = Node(3)\n",
        "root.left.right = Node(8)\n",
        "root.right.right = Node(20)\n",
        "\n",
        "# Memanggil metode untuk menghitung kedalaman maksimum\n",
        "depth = max_depth(root)\n",
        "print(\"Kedalaman maksimum pohon: \", depth)"
      ],
      "metadata": {
        "id": "TL466KsLxi47"
      },
      "execution_count": null,
      "outputs": []
    },
    {
      "cell_type": "code",
      "execution_count": null,
      "metadata": {
        "id": "9m8Ravrt1BM6"
      },
      "outputs": [],
      "source": [
        "def intersect(bagA, bagB):\n",
        "    result = []\n",
        "    for o in bagA:\n",
        "        if o in bagB:\n",
        "            result.append(o)\n",
        "    return result\n"
      ]
    },
    {
      "cell_type": "code",
      "source": [
        "bagA=[11,12,13,14,15]\n",
        "bagB=[1,2,3,4,5]\n",
        "intersect(bagA, bagB)"
      ],
      "metadata": {
        "id": "FjNx0PqH1VEc"
      },
      "execution_count": null,
      "outputs": []
    },
    {
      "cell_type": "code",
      "source": [
        "bagA=[1,2,3,4,5]\n",
        "bagB=[11,12,13,14,15]\n",
        "intersect(bagA, bagB)"
      ],
      "metadata": {
        "id": "fq_RcUw33B6U"
      },
      "execution_count": null,
      "outputs": []
    },
    {
      "cell_type": "code",
      "source": [
        "bagA={1,2,3,4,5}\n",
        "bagB={2,7,3,9,1}\n",
        "print(bagA.intersection(bagB))"
      ],
      "metadata": {
        "id": "WWqDhW6r3ZEB"
      },
      "execution_count": null,
      "outputs": []
    },
    {
      "cell_type": "code",
      "source": [
        "def is_prima (x):\n",
        "  if x < 2:\n",
        "    return False\n",
        "  for i in range(2, x):\n",
        "    if x % i == 0:\n",
        "      return False\n",
        "  return True\n",
        "\n",
        "def cari_bilangan_prima (awal, akhir):\n",
        "  list_bilangan_prima = []\n",
        "  for x in range(awal, akhir + 1):\n",
        "    if is_prima(x):\n",
        "      list_bilangan_prima.append(x)\n",
        "\n",
        "  return list_bilangan_prima\n",
        "print(cari_bilangan_prima(2, 100))"
      ],
      "metadata": {
        "id": "Vav-21YZ64C9"
      },
      "execution_count": null,
      "outputs": []
    }
  ]
}