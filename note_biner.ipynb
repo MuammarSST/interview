{
  "nbformat": 4,
  "nbformat_minor": 0,
  "metadata": {
    "colab": {
      "private_outputs": true,
      "provenance": [],
      "authorship_tag": "ABX9TyO2S37r2A87+FlxGvDpdfB3",
      "include_colab_link": true
    },
    "kernelspec": {
      "name": "python3",
      "display_name": "Python 3"
    },
    "language_info": {
      "name": "python"
    }
  },
  "cells": [
    {
      "cell_type": "markdown",
      "metadata": {
        "id": "view-in-github",
        "colab_type": "text"
      },
      "source": [
        "<a href=\"https://colab.research.google.com/github/MuammarSST/interview/blob/main/note_biner.ipynb\" target=\"_parent\"><img src=\"https://colab.research.google.com/assets/colab-badge.svg\" alt=\"Open In Colab\"/></a>"
      ]
    },
    {
      "cell_type": "code",
      "execution_count": null,
      "metadata": {
        "id": "LtMBKRRLwZTv"
      },
      "outputs": [],
      "source": [
        "class Node:\n",
        "    def __init__(self):\n",
        "        self.right = None\n",
        "        self.left = None\n"
      ]
    },
    {
      "cell_type": "code",
      "source": [
        "class Node:\n",
        "    def __init__(self, data):\n",
        "        self.data = data\n",
        "        self.right = None\n",
        "        self.left = None\n",
        "\n",
        "def max_depth(root):\n",
        "    if root is None:\n",
        "        return 0\n",
        "\n",
        "    left_depth = max_depth(root.left)\n",
        "    right_depth = max_depth(root.right)\n",
        "\n",
        "    return max(left_depth, right_depth) + 1\n",
        "\n",
        "# Contoh penggunaan\n",
        "# Membangun pohon biner\n",
        "root = Node(10)\n",
        "root.left = Node(5)\n",
        "root.right = Node(15)\n",
        "root.left.left = Node(3)\n",
        "root.left.right = Node(8)\n",
        "root.right.right = Node(20)\n",
        "\n",
        "# Memanggil metode untuk menghitung kedalaman maksimum\n",
        "depth = max_depth(root)\n",
        "print(\"Kedalaman maksimum pohon: \", depth)"
      ],
      "metadata": {
        "id": "TL466KsLxi47"
      },
      "execution_count": null,
      "outputs": []
    }
  ]
}