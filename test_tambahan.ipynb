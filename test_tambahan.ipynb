{
  "nbformat": 4,
  "nbformat_minor": 0,
  "metadata": {
    "colab": {
      "private_outputs": true,
      "provenance": [],
      "authorship_tag": "ABX9TyPfwVdiEoETSmCapi+3Av/W",
      "include_colab_link": true
    },
    "kernelspec": {
      "name": "python3",
      "display_name": "Python 3"
    },
    "language_info": {
      "name": "python"
    }
  },
  "cells": [
    {
      "cell_type": "markdown",
      "metadata": {
        "id": "view-in-github",
        "colab_type": "text"
      },
      "source": [
        "<a href=\"https://colab.research.google.com/github/MuammarSST/interview/blob/main/test_tambahan.ipynb\" target=\"_parent\"><img src=\"https://colab.research.google.com/assets/colab-badge.svg\" alt=\"Open In Colab\"/></a>"
      ]
    },
    {
      "cell_type": "code",
      "source": [
        "input='BIAENERGI'\n",
        "mirror=input[::-1]\n",
        "awal=slice(0,5)\n",
        "tengah=slice(5,6)\n",
        "praakhir=slice(6,8)\n",
        "akhir=slice(8,9)\n",
        "print(mirror[awal].lower()+mirror[tengah]+mirror[praakhir].lower()+mirror[akhir])"
      ],
      "metadata": {
        "id": "SCdrjgo4pImv"
      },
      "execution_count": null,
      "outputs": []
    }
  ]
}